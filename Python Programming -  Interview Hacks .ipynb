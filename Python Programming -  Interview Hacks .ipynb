{
 "cells": [
  {
   "cell_type": "markdown",
   "metadata": {},
   "source": [
    "## Interview Question for Programming"
   ]
  },
  {
   "cell_type": "code",
   "execution_count": null,
   "metadata": {},
   "outputs": [],
   "source": [
    "# How to swap two numbers without using a temporary variable?\n",
    "# Given two variables, x and y, swap two variables without using a third variable.\n",
    "\n",
    "x = 10\n",
    "y = 5\n",
    "   \n",
    "# Code to swap 'x' and 'y' \n",
    "  \n",
    "# x now becomes 15 \n",
    "x = x + y   \n",
    "  \n",
    "# y becomes 10 \n",
    "y = x - y  \n",
    "  \n",
    "# x becomes 5 \n",
    "x = x - y   \n",
    "print(\"After Swapping: x =\", x, \" y =\", y)"
   ]
  },
  {
   "cell_type": "code",
   "execution_count": null,
   "metadata": {},
   "outputs": [],
   "source": [
    "# Write a program to reverse digits of a number 4562\n",
    "# Write a program to reverse digits of an integer.\n",
    "rev_num = 0\n",
    "base_pos = 1\n",
    "  \n",
    "# Recursive function to reverse \n",
    "# digits of num \n",
    "def reversDigits(num): \n",
    "    global rev_num \n",
    "    global base_pos \n",
    "    if(num > 0): \n",
    "        reversDigits((int)(num / 10)) \n",
    "        rev_num += (num % 10) * base_pos \n",
    "        base_pos *= 10\n",
    "    return rev_num \n",
    "      \n",
    "# Driver Code  \n",
    "num = 4562\n",
    "print(\"Reverse of no. is \", \n",
    "         reversDigits(num)) "
   ]
  },
  {
   "cell_type": "code",
   "execution_count": null,
   "metadata": {},
   "outputs": [],
   "source": [
    "# Program to find GCD or HCF of two numbers\n",
    "# GCD (Greatest Common Divisor) or HCF (Highest Common Factor) of two numbers is the largest number that divides both of them.\n",
    "# Recursive function to return gcd of a and b \n",
    "def gcd(a,b): \n",
    "      \n",
    "    # Everything divides 0  \n",
    "    if (a == 0): \n",
    "        return b \n",
    "    if (b == 0): \n",
    "        return a \n",
    "  \n",
    "    # base case \n",
    "    if (a == b): \n",
    "        return a \n",
    "  \n",
    "    # a is greater \n",
    "    if (a > b): \n",
    "        return gcd(a-b, b) \n",
    "    return gcd(a, b-a) \n",
    "  \n",
    "# Driver program to test above function \n",
    "a = 98\n",
    "b = 56\n",
    "if(gcd(a, b)): \n",
    "    print('GCD of', a, 'and', b, 'is', gcd(a, b)) \n",
    "else: \n",
    "    print('not found') \n",
    "\n",
    "\n",
    "\n"
   ]
  },
  {
   "cell_type": "code",
   "execution_count": null,
   "metadata": {},
   "outputs": [],
   "source": [
    "# GCD of more than two (or array) numbers\n",
    "# Given an array of numbers, find GCD of the array elements. In a previous post we find GCD of two number.\n",
    "def find_gcd(x, y): \n",
    "      \n",
    "    while(y): \n",
    "        x, y = y, x % y \n",
    "      \n",
    "    return x \n",
    "          \n",
    "# Driver Code         \n",
    "l = [2, 4, 6, 8, 16] \n",
    "  \n",
    "num1 = l[0] \n",
    "num2 = l[1] \n",
    "gcd = find_gcd(num1, num2) \n",
    "  \n",
    "for i in range(2, len(l)): \n",
    "    gcd = find_gcd(gcd, l[i]) \n",
    "      \n",
    "print(gcd) \n"
   ]
  },
  {
   "cell_type": "code",
   "execution_count": null,
   "metadata": {},
   "outputs": [],
   "source": [
    "# Given a non-negative integer numRows, generate the first numRows of Pascal's triangle\n",
    "class Solution(object):\n",
    "    def generate(self, numRows):\n",
    "        if numRows==0:return []\n",
    "        if numRows==1:return[[1]]\n",
    "        ans=[]\n",
    "        for i in range(1,numRows+1):\n",
    "            l=[]\n",
    "            k=0\n",
    "            for j in range(i):\n",
    "                if j==0 or j==i-1:\n",
    "                    l.append(1)\n",
    "                else:        \n",
    "                    l.append(ans[i-2][k]+ans[i-2][k+1])\n",
    "                    k+=1\n",
    "            ans.append(l[:])\n",
    "        return ans"
   ]
  },
  {
   "cell_type": "code",
   "execution_count": null,
   "metadata": {},
   "outputs": [],
   "source": [
    "#We initialise l as the list which contains each row of the pascal triangle. We do this for every row, i.e. everytime we loop through the outer for loop.\n",
    "#Now number of elements in a row = row number, so the inner for loop goes from 0 to i-1.\n",
    "#The first and last elements (j=0 and j=i-1) are always 1.\n",
    "#For each of the middle elements, we add two consecutive elements of the previous row. You can visualise this in the problem description section.\n",
    "#k is a pointer that goes from left to right in the previous row.\n",
    "#It is incremented everytime we get the value of a particular element, so that the next time we enter this loop, we can add the next two consecutive elements of the previous row to get the next element of the current row."
   ]
  },
  {
   "cell_type": "code",
   "execution_count": null,
   "metadata": {},
   "outputs": [],
   "source": [
    "# is bit manipulation. Go through the following link, to understand the basics of bit manipulation in Python: \n",
    "# \"https://www.tutorialspoint.com/python/bitwise_operators_example.htm\"\n",
    "a = 60            # 60 = 0011 1100 \n",
    "b = 13            # 13 = 0000 1101 \n",
    "c = 0\n",
    "\n",
    "c = a & b;        # 12 = 0000 1100\n",
    "print (\"Line 1 - Value of c is \", c)\n",
    "\n",
    "c = a | b;        # 61 = 0011 1101 \n",
    "print (\"Line 2 - Value of c is \", c)\n",
    "\n",
    "c = a ^ b;        # 49 = 0011 0001\n",
    "print (\"Line 3 - Value of c is \", c)\n",
    "\n",
    "c = ~a;           # -61 = 1100 0011\n",
    "print (\"Line 4 - Value of c is \", c)\n",
    "\n",
    "c = a << 2;       # 240 = 1111 0000\n",
    "print (\"Line 5 - Value of c is \", c)\n",
    "\n",
    "c = a >> 2;       # 15 = 0000 1111\n",
    "print (\"Line 6 - Value of c is \", c)"
   ]
  },
  {
   "cell_type": "code",
   "execution_count": null,
   "metadata": {},
   "outputs": [],
   "source": [
    "# Write a program that prints the numbers from a given 'a' to 'b', but for multiples of '3' print \"Fizz\" instead of the number and for the multiples of '5' print \"Buzz\". And for multiples of both 3 and 5, print “FizzBuzz”\n",
    "\n",
    "#Python program to print Fizz Buzz \n",
    "#loop for 16 times i.e. range \n",
    "for fizzbuzz in range(10, 16):  \n",
    "  \n",
    "    # number divisible by 3, print 'Fizz'  \n",
    "    # in place of the number \n",
    "    if fizzbuzz % 15 == 0:  \n",
    "        print(\"FizzBuzz\")                                          \n",
    "        continue\n",
    "  \n",
    "    # number divisible by 5, print 'Buzz' \n",
    "    # in place of the number \n",
    "    elif fizzbuzz % 3 == 0:      \n",
    "        print(\"Fizz\")                                          \n",
    "        continue\n",
    "  \n",
    "    # number divisible by 15 (divisible  \n",
    "    # by both 3 & 5), print 'FizzBuzz' in \n",
    "    # place of the number \n",
    "    elif fizzbuzz % 5 == 0:          \n",
    "        print(\"Buzz\")                                      \n",
    "        continue\n",
    "  \n",
    "    # print numbers \n",
    "    print(fizzbuzz) "
   ]
  },
  {
   "cell_type": "code",
   "execution_count": null,
   "metadata": {},
   "outputs": [],
   "source": [
    "# Find the non-repeating integer\n",
    "# Given an array, all the numbers appear twice — except one. Find the non-repeating number. (Hint: Use Bitwise Operators)\n",
    "def findSingle( ar, n): \n",
    "      \n",
    "    res = ar[0] \n",
    "      \n",
    "    # Do XOR of all elements and return \n",
    "    for i in range(1,n): \n",
    "        res = res ^ ar[i] \n",
    "      \n",
    "    return res \n",
    "  \n",
    "# Driver code \n",
    "ar = [2, 2, 7, 7, 1, 1, 3, 9, 9] \n",
    "print (findSingle(ar, len(ar)))"
   ]
  },
  {
   "cell_type": "code",
   "execution_count": null,
   "metadata": {},
   "outputs": [],
   "source": [
    "#To find out the asymptotic upper bound, or to put it in simple terms, to find out the complexity of time taken by the algorithm in the worst-case scenario, we use O-notation. So, for a given function g(n), we denote O(g(n)) (called Big-O of g(n)) as — \n",
    "\n",
    " \n",
    "\n",
    "O(g(n)) = { f(n);  there exist positive constants c and n₀ such that, 0 ≤ c ∗ g(n) ≤ f(n) for all n ≥ n₀ }"
   ]
  },
  {
   "cell_type": "code",
   "execution_count": null,
   "metadata": {},
   "outputs": [],
   "source": [
    "# https://rob-bell.net/2009/06/a-beginners-guide-to-big-o-notation/\n",
    "# https://www.interviewcake.com/article/java/big-o-notation-time-and-space-complexity"
   ]
  },
  {
   "cell_type": "markdown",
   "metadata": {},
   "source": [
    "## Built in Function in Python"
   ]
  },
  {
   "cell_type": "code",
   "execution_count": null,
   "metadata": {},
   "outputs": [],
   "source": [
    "# https://docs.python.org/3/library/functions.html#map\n",
    "# https://www.w3schools.com/python/python_ref_functions.asp"
   ]
  },
  {
   "cell_type": "code",
   "execution_count": null,
   "metadata": {},
   "outputs": [],
   "source": [
    "round(3.789)"
   ]
  },
  {
   "cell_type": "code",
   "execution_count": null,
   "metadata": {},
   "outputs": [],
   "source": [
    "a = 1\n",
    "b= 2\n",
    "c =3\n",
    "\n",
    "\n",
    "pow(a, b, c)"
   ]
  },
  {
   "cell_type": "code",
   "execution_count": null,
   "metadata": {},
   "outputs": [],
   "source": [
    "all(4, 6, 0, 1)"
   ]
  },
  {
   "cell_type": "code",
   "execution_count": null,
   "metadata": {},
   "outputs": [],
   "source": [
    "L = [3, 6, 7, 3, 10, 1, 3]\n",
    "L.pop(3)\n",
    "L"
   ]
  },
  {
   "cell_type": "code",
   "execution_count": null,
   "metadata": {},
   "outputs": [],
   "source": [
    "ord(‘A’) #65"
   ]
  },
  {
   "cell_type": "code",
   "execution_count": null,
   "metadata": {},
   "outputs": [],
   "source": [
    "divmod(50, 7)"
   ]
  },
  {
   "cell_type": "markdown",
   "metadata": {},
   "source": [
    "## Defining Your Own Functions"
   ]
  },
  {
   "cell_type": "code",
   "execution_count": null,
   "metadata": {},
   "outputs": [],
   "source": [
    "# https://python.swaroopch.com/functions.html\n"
   ]
  },
  {
   "cell_type": "code",
   "execution_count": null,
   "metadata": {},
   "outputs": [],
   "source": [
    "# Write a function that takes a number ‘n’ as input and returns the factorial of that number.\n",
    "\n",
    "num = int(input())\n",
    "def factorial(num):\n",
    "    if num == 0:\n",
    "        return 1\n",
    "    else:\n",
    "        return num * factorial(num-1)\n",
    "print(factorial(num))"
   ]
  },
  {
   "cell_type": "code",
   "execution_count": null,
   "metadata": {},
   "outputs": [],
   "source": [
    "# recursive programming\n",
    "# https://www.freecodecamp.org/news/how-recursion-works-explained-with-flowcharts-and-a-video-de61f40cb7f9/\n",
    "# https://www.youtube.com/watch?v=ncpTxqK35PI&index=4&t=0s&list=PL2_aWCzGMAwLz3g66WrxFGSXvSsvyfzCO - time space complexity in recursion\n",
    "# Define the function\n",
    "\n",
    "def rec_fact(n):\n",
    "  \n",
    "#  Base case of a recursive program. This is necessary for the recursive program to come out \n",
    "# of the recursion. We'll talk more about it ahead.\n",
    "\n",
    "  if n == 0:\n",
    "    return(1)\n",
    "\n",
    "# Recursive call to the same function, with (n-1). You’re doing this since you know n! = n*(n-1)!\n",
    "# Notice the similarity with the iterative approach, i.e. using loops. Inside the loops,  you were \n",
    "# iterating the value of i from 1 to n. Here too, you’re doing the same iteration for the calls.\n",
    " \n",
    "  else:\n",
    "     return(n * rec_fact(n-1))\n",
    "  \n",
    "\n",
    "# Call your function\n",
    "rec_fact(3)"
   ]
  },
  {
   "cell_type": "code",
   "execution_count": null,
   "metadata": {},
   "outputs": [],
   "source": [
    "def Unknown_func(number):\n",
    "    if number == 0:\n",
    "        return 0\n",
    "    else:\n",
    "        return number*number + Unknown_func(number-1)\n",
    "\n",
    "Unknown_func(4)"
   ]
  },
  {
   "cell_type": "code",
   "execution_count": null,
   "metadata": {},
   "outputs": [],
   "source": [
    "def Unknown_func(number):\n",
    "    if(number == 1):\n",
    "        return (0)\n",
    "    else:\n",
    "        return (1 + Unknown_func(number//2))\n"
   ]
  },
  {
   "cell_type": "code",
   "execution_count": null,
   "metadata": {},
   "outputs": [],
   "source": [
    "def Unknown_func(n):\n",
    "    if n <= 1:\n",
    "        return(n)\n",
    "    else:\n",
    "        return (Unknown_func(n-1) + Unknown_func(n-2))"
   ]
  },
  {
   "cell_type": "code",
   "execution_count": null,
   "metadata": {},
   "outputs": [],
   "source": [
    "Unknown_func(6)"
   ]
  },
  {
   "cell_type": "markdown",
   "metadata": {},
   "source": [
    "##  String Manipulation in Python"
   ]
  },
  {
   "cell_type": "code",
   "execution_count": null,
   "metadata": {},
   "outputs": [],
   "source": [
    "# https://programminghistorian.org/en/lessons/manipulating-strings-in-python\n",
    "\n",
    "print(\"Hello World\"[::-1])"
   ]
  },
  {
   "cell_type": "code",
   "execution_count": null,
   "metadata": {},
   "outputs": [],
   "source": [
    "max(\"You should code in Python\")"
   ]
  },
  {
   "cell_type": "code",
   "execution_count": null,
   "metadata": {},
   "outputs": [],
   "source": [
    "\"Mississippi\".rfind('s')"
   ]
  },
  {
   "cell_type": "code",
   "execution_count": null,
   "metadata": {},
   "outputs": [],
   "source": [
    "\"Mississipi\".count(\"issi\")"
   ]
  },
  {
   "cell_type": "code",
   "execution_count": null,
   "metadata": {},
   "outputs": [],
   "source": [
    "\"Hello\".replace('l', 'e')"
   ]
  },
  {
   "cell_type": "code",
   "execution_count": null,
   "metadata": {},
   "outputs": [],
   "source": [
    "# Python code to reverse a string  \n",
    "# using loop \n",
    "  \n",
    "def reverse(s): \n",
    "  str = \"\" \n",
    "  for i in s: \n",
    "    str = i + str\n",
    "  return str\n",
    "  \n",
    "s = \"Geeksforgeeks\"\n",
    "  \n",
    "print (\"The original string  is : \",end=\"\") \n",
    "print (s) \n",
    "  \n",
    "print (\"The reversed string(using loops) is : \",end=\"\") \n",
    "print (reverse(s)) "
   ]
  },
  {
   "cell_type": "code",
   "execution_count": null,
   "metadata": {},
   "outputs": [],
   "source": [
    "# Python code to reverse a string  \n",
    "# using recursion \n",
    "  \n",
    "def reverse(s): \n",
    "    if len(s) == 0: \n",
    "        return s \n",
    "    else: \n",
    "        return reverse(s[1:]) + s[0] \n",
    "  \n",
    "s = \"Geeksforgeeks\"\n",
    "  \n",
    "print (\"The original string  is : \",end=\"\") \n",
    "print (s) \n",
    "  \n",
    "print (\"The reversed string(using recursion) is : \",end=\"\") \n",
    "print (reverse(s)) "
   ]
  },
  {
   "cell_type": "code",
   "execution_count": null,
   "metadata": {},
   "outputs": [],
   "source": [
    "# Given two non-negative integers num1 and num2 represented as string, return the sum of num1 and num2.\n",
    "\n",
    "# Note:\n",
    "\n",
    "# The length of both num1 and num2 is < 5100.\n",
    "# Both num1 and num2 contains only digits 0-9.\n",
    "# Both num1 and num2 does not contain any leading zero.\n",
    "# You must not use any built-in BigInteger library or convert the inputs to integer directly.\n",
    "\n",
    "def String2Int(x,y):\n",
    "    if len(x) > len(y):\n",
    "        x,y = y,x\n",
    "        len1 = len(x)\n",
    "        len2 = len(y)\n",
    "        carry = 0\n",
    "        l = x[::-1]\n",
    "        g = y[::-1]\n",
    "        sumation = ''\n",
    "for i in range(len1):\n",
    "    sumi = my_int(l[i]) + my_int(g[i])+carry\n",
    "    d =sumi%10\n",
    "    carry = sumi//10\n",
    "    sumation = str(d)+ sumation\n",
    "for i in range(len1,len2):\n",
    "    sumi = my_int(g[i])+carry\n",
    "    d = sumi%10\n",
    "    carry=sumi//10\n",
    "    sumation = str(d)+ sumation\n",
    "if carry:\n",
    "    sumation = str(carry)+ sumation\n",
    "return sumation\n",
    "\n",
    "#ord takes character & gives ASCII\n",
    "def my_int(x):\n",
    "    return ord(x) - ord('0')"
   ]
  },
  {
   "cell_type": "code",
   "execution_count": null,
   "metadata": {},
   "outputs": [],
   "source": [
    "def reverseWords(self, s):\n",
    "    return ' '.join(x[::-1] for x in s.split())"
   ]
  },
  {
   "cell_type": "code",
   "execution_count": null,
   "metadata": {},
   "outputs": [],
   "source": [
    "# Python Program to continuously move consonants to end of string until the first letter is vowel\n",
    "s = input(\"What word do you want translated?\")\n",
    "first = s[0]\n",
    "vowel = \"aeiou\"\n",
    "for i in range (1, len(s)):\n",
    "     if first in vowel:\n",
    "        s = s + \"way\"\n",
    "        print (s)\n",
    "else:\n",
    "        s = s[1:] + s[0]\n",
    "        print (s)"
   ]
  },
  {
   "cell_type": "code",
   "execution_count": null,
   "metadata": {},
   "outputs": [],
   "source": [
    "s = raw_input(\"What word do you want translated?\").strip()\n",
    "vowel = set(\"aeiou\")\n",
    "if vowel & set(s):\n",
    "    while s[0] not in vowel:\n",
    "        s = s[1:] + s[0]\n",
    "    print(s)\n",
    "else:\n",
    "    print (\"Input has no vowels\")"
   ]
  },
  {
   "cell_type": "code",
   "execution_count": null,
   "metadata": {},
   "outputs": [],
   "source": [
    "#Move Consonants to the End\n",
    "def MoveConsonants(input1):\n",
    "    contains_vowel = False\n",
    "    for letter in input1: #Check if the work contains a vowel or not\n",
    "        if letter in 'aeiou':\n",
    "            contains_vowel = True\n",
    "    #If the word doesn't contain a vowel, return the same word\n",
    "    if not contains_vowel: \n",
    "        return input1\n",
    "\n",
    "    #Check if the first letter is a vowel, if so, we can return the string\n",
    "    if input1[0] in 'aeiou':\n",
    "        return input1\n",
    "\n",
    "    #if the first letter is not a vowel, move the first letter to the end and repeat the process\n",
    "    input1 = input1[1:] + input1[0]\n",
    "    return MoveConsonants(input1)\n",
    "print(MoveConsonants('Plank'))"
   ]
  },
  {
   "cell_type": "code",
   "execution_count": null,
   "metadata": {},
   "outputs": [],
   "source": [
    "# Python program to check if a string is palindrome or not\n",
    "\n",
    "def reverse(s): \n",
    "    return s[::-1] \n",
    "  \n",
    "def isPalindrome(s): \n",
    "    # Calling reverse function \n",
    "    rev = reverse(s) \n",
    "  \n",
    "    # Checking if both string are equal or not \n",
    "    if (s == rev): \n",
    "        return True\n",
    "    return False\n",
    "  \n",
    "  \n",
    "# Driver code \n",
    "s = \"malayalam\"\n",
    "ans = isPalindrome(s) \n",
    "  \n",
    "if ans == 1: \n",
    "    print(\"Yes\") \n",
    "else: \n",
    "    print(\"No\") "
   ]
  },
  {
   "cell_type": "code",
   "execution_count": null,
   "metadata": {},
   "outputs": [],
   "source": [
    "# https://www.geeksforgeeks.org/linear-search/\n",
    "# second max in a list\n",
    "input_list = [1, 3, 4, 9, 7, 10, 6, 13]\n",
    "  \n",
    "max=max(input_list[0],input_list[1]) \n",
    "secondmax=min(input_list[0],input_list[1]) \n",
    "  \n",
    "for i in range(2,len(input_list)): \n",
    "    if input_list[i]>max: \n",
    "        secondmax=max\n",
    "        max=input_list[i] \n",
    "    else: \n",
    "        if input_list[i]>secondmax: \n",
    "            secondmax=input_list[i] \n",
    "print(str(secondmax)) "
   ]
  },
  {
   "cell_type": "code",
   "execution_count": null,
   "metadata": {},
   "outputs": [],
   "source": [
    "# Binary Search Alogorithm\n",
    "\n",
    "# https://www.geeksforgeeks.org/binary-search/\n",
    "\n"
   ]
  },
  {
   "cell_type": "code",
   "execution_count": null,
   "metadata": {},
   "outputs": [],
   "source": [
    "# Write a program to find the square root of a given non-negative integer. If the number is not a perfect square, the program should return the floor of the square root, i.e. if the given number is 11, the output should be 3; and if the given number is 70, the output should be 8.\n",
    "\n",
    "  \n",
    "# Returns floor of square root of x \n",
    "def floorSqrt(x): \n",
    "  \n",
    "    # Base cases \n",
    "    if (x == 0 or x == 1): \n",
    "        return x \n",
    "  \n",
    "    # Staring from 1, try all numbers until \n",
    "    # i*i is greater than or equal to x. \n",
    "    i = 1; result = 1\n",
    "    while (result <= x): \n",
    "      \n",
    "        i += 1\n",
    "        result = i * i \n",
    "      \n",
    "    return i - 1\n",
    "  \n",
    "# Driver Code \n",
    "x = 11\n",
    "print(floorSqrt(x)) \n",
    "  "
   ]
  },
  {
   "cell_type": "markdown",
   "metadata": {},
   "source": [
    "# Build in Sort functions"
   ]
  },
  {
   "cell_type": "code",
   "execution_count": null,
   "metadata": {},
   "outputs": [],
   "source": [
    "# https://docs.python.org/3/howto/sorting.html\n"
   ]
  },
  {
   "cell_type": "code",
   "execution_count": null,
   "metadata": {},
   "outputs": [],
   "source": [
    "def func(x):\n",
    "     return x % 10\n",
    "\n",
    "L = [15, 20, 5, 29, 10]\n",
    "sorted(L, key = func)"
   ]
  },
  {
   "cell_type": "code",
   "execution_count": null,
   "metadata": {},
   "outputs": [],
   "source": [
    "# Sort a List according to the Length of the Elements\n",
    "# another list Use of sorted() \n",
    "def Sorting(lst): \n",
    "    lst2 = sorted(lst, key=len) \n",
    "    return lst2 \n",
    "      \n",
    "# Driver code \n",
    "lst = [\"rohan\", \"amy\", \"sapna\", \"muhammad\",  \n",
    "       \"aakash\", \"raunak\", \"chinmoy\"] \n",
    "print(Sorting(lst)) \n"
   ]
  },
  {
   "cell_type": "code",
   "execution_count": null,
   "metadata": {},
   "outputs": [],
   "source": [
    "# Sorting Algorithms\n",
    "\n",
    "# https://www.geeksforgeeks.org/selection-sort/\n",
    "# https://www.geeksforgeeks.org/bubble-sort/\n",
    "# https://www.geeksforgeeks.org/insertion-sort/\n",
    "# https://www.geeksforgeeks.org/merge-sort/\n",
    "# https://www.geeksforgeeks.org/quick-sort/"
   ]
  },
  {
   "cell_type": "code",
   "execution_count": null,
   "metadata": {},
   "outputs": [],
   "source": [
    "L = [7, 2, 13, 4, 10]\n",
    "sorted(L)"
   ]
  },
  {
   "cell_type": "code",
   "execution_count": null,
   "metadata": {},
   "outputs": [],
   "source": [
    "# Solving Programming Problems Using Two Pointers\n",
    "# Q. For a sorted list L (sorted in an ascending order), containing ‘n’ integers, \n",
    "# find if there exists a pair of elements in the list — whose sum is equal to ‘S’.\n",
    "def twosum(L, S):\n",
    "    n = len(L)\n",
    "    for i in range(0,n):\n",
    "        for j in reversed(range(0,n)):\n",
    "            if i != j and L[i] + L[j] == S:\n",
    "                return True\n",
    "            \n",
    "    return False"
   ]
  },
  {
   "cell_type": "code",
   "execution_count": null,
   "metadata": {},
   "outputs": [],
   "source": [
    "def twosum(L, S):\n",
    "    n = len(L)\n",
    "    i = 0\n",
    "    j = n - 1\n",
    "    \n",
    "    while i < j:\n",
    "            if L[i] + L[j] == S:\n",
    "                return True\n",
    "            \n",
    "            elif L[i] + L[j] < S:\n",
    "                i += 1\n",
    "                \n",
    "            else:\n",
    "                j -= 1\n",
    "                            \n",
    "    return False"
   ]
  },
  {
   "cell_type": "code",
   "execution_count": null,
   "metadata": {},
   "outputs": [],
   "source": [
    "# https://www.geeksforgeeks.org/given-an-array-a-and-a-number-x-check-for-pair-in-a-with-sum-as-x/\n",
    "# https://www.geeksforgeeks.org/given-sorted-array-number-x-find-pair-array-whose-sum-closest-x/\n",
    "# https://www.geeksforgeeks.org/remove-duplicates-sorted-array/\n",
    "\n"
   ]
  },
  {
   "cell_type": "code",
   "execution_count": null,
   "metadata": {},
   "outputs": [],
   "source": [
    "# Q. For a sorted list L (sorted in an ascending order), containing ‘n’ integers, find if there exists a pair of elements in the list — whose sum is equal to ‘S’.\n",
    "\n",
    "def twosum(L, S):\n",
    "    n = len(L)\n",
    "    for i in range(0,n):\n",
    "        for j in reversed(range(0,n)):\n",
    "            if i != j and L[i] + L[j] == S:\n",
    "                return True\n",
    "            \n",
    "    return False"
   ]
  },
  {
   "cell_type": "code",
   "execution_count": null,
   "metadata": {},
   "outputs": [],
   "source": [
    "def twosum(L, S):\n",
    "    n = len(L)\n",
    "    i = 0\n",
    "    j = n - 1\n",
    "    \n",
    "    while i < j:\n",
    "            if L[i] + L[j] == S:\n",
    "                return True\n",
    "            \n",
    "            elif L[i] + L[j] < S:\n",
    "                i += 1\n",
    "                \n",
    "            else:\n",
    "                j -= 1\n",
    "                            \n",
    "    return False\n"
   ]
  },
  {
   "cell_type": "code",
   "execution_count": null,
   "metadata": {},
   "outputs": [],
   "source": [
    "# https://www.geeksforgeeks.org/given-an-array-a-and-a-number-x-check-for-pair-in-a-with-sum-as-x/\n",
    "# https://www.geeksforgeeks.org/given-sorted-array-number-x-find-pair-array-whose-sum-closest-x/\n",
    "# https://www.geeksforgeeks.org/remove-duplicates-sorted-array/"
   ]
  },
  {
   "cell_type": "code",
   "execution_count": null,
   "metadata": {},
   "outputs": [],
   "source": [
    "def mergeArrays(arr1, arr2, n1, n2): \n",
    "    arr3 = [None] * (n1 + n2) \n",
    "    i = 0\n",
    "    j = 0\n",
    "    k = 0\n",
    "  \n",
    "    # Traverse both array \n",
    "    while i < n1 and j < n2: \n",
    "      \n",
    "        # Check if current element  \n",
    "        # of first array is smaller  \n",
    "        # than current element of  \n",
    "        # second array. If yes,  \n",
    "        # store first array element  \n",
    "        # and increment first array \n",
    "        # index. Otherwise do same  \n",
    "        # with second array \n",
    "        if arr1[i] < arr2[j]: \n",
    "            arr3[k] = arr1[i] \n",
    "            k = k + 1\n",
    "            i = i + 1\n",
    "        else: \n",
    "            arr3[k] = arr2[j] \n",
    "            k = k + 1\n",
    "            j = j + 1\n",
    "      \n",
    "  \n",
    "    # Store remaining elements \n",
    "    # of first array \n",
    "    while i < n1: \n",
    "        arr3[k] = arr1[i]; \n",
    "        k = k + 1\n",
    "        i = i + 1\n",
    "  \n",
    "    # Store remaining elements  \n",
    "    # of second array \n",
    "    while j < n2: \n",
    "        arr3[k] = arr2[j]; \n",
    "        k = k + 1\n",
    "        j = j + 1\n",
    "    print(\"Array after merging\") \n",
    "    for i in range(n1 + n2): \n",
    "        print(str(arr3[i]), end = \" \") \n",
    "  \n",
    "# Driver code \n",
    "arr1 = [1, 3, 5, 7] \n",
    "n1 = len(arr1) \n",
    "  \n",
    "arr2 = [2, 4, 6, 8] \n",
    "n2 = len(arr2) \n",
    "mergeArrays(arr1, arr2, n1, n2)"
   ]
  },
  {
   "cell_type": "code",
   "execution_count": null,
   "metadata": {},
   "outputs": [],
   "source": [
    "# Program to sort a vector of 0s and 1s in one traversal of the vector\n",
    "\n",
    "# Given vector of 0s and 1s\n",
    "v = [0, 0, 1, 1, 1, 1, 0, 1, 0, 0, 0, 1, 1, 0]\n",
    "n = len(v)\n",
    "# Initialise two variables 'i' and 'j' to 1, indicating that they are currently pointing at the \n",
    "# first element in the vector.\n",
    "i = 0\n",
    "j = 0\n",
    "\n",
    "# Run a loop from 1 to the length of the vector, with the variable 'i'\n",
    "for i in range(n):\n",
    "    print(i)\n",
    "  \n",
    "# If you encounter a zero, swap the values between v[i] & v[j] and increment 'j' as well. 'i'\n",
    "# anyway gets incremented with every iteration of the loop. Think about it. This way, 'j' will\n",
    "# always point at the first '1' that hasn't been sorted. Swapping the value of v[i]\n",
    "# and v[j] will help replace the 1s with 0s that come after it. If v[j] is pointing at zero,\n",
    "# swapping won't matter anyway.\n",
    "    if(v[i] == 0):\n",
    "        temp = v[j]\n",
    "        v[j] = v[i]\n",
    "        v[i] = temp\n",
    "        j = j + 1\n",
    "\n",
    "# Print the sorted vector\n",
    "print(v)"
   ]
  },
  {
   "cell_type": "code",
   "execution_count": null,
   "metadata": {},
   "outputs": [],
   "source": [
    "# Function to sort array \n",
    "def sort012( a, arr_size): \n",
    "    lo = 0\n",
    "    hi = arr_size - 1\n",
    "    mid = 0\n",
    "    while mid <= hi: \n",
    "        if a[mid] == 0: \n",
    "            a[lo], a[mid] = a[mid], a[lo] \n",
    "            lo = lo + 1\n",
    "            mid = mid + 1\n",
    "        elif a[mid] == 1: \n",
    "            mid = mid + 1\n",
    "        else: \n",
    "            a[mid], a[hi] = a[hi], a[mid]  \n",
    "            hi = hi - 1\n",
    "return a \n",
    "      \n",
    "# Function to print array \n",
    "def printArray( a): \n",
    "    for k in a: \n",
    "        print (k)\n",
    "      \n",
    "  \n",
    "# Driver Program \n",
    "arr = [0, 1, 1, 0, 1, 2, 1, 2, 0, 0, 0, 1] \n",
    "arr_size = len(arr) \n",
    "arr = sort012( arr, arr_size) \n",
    "print \"Array aftter segregation :\", \n",
    "printArray(arr) "
   ]
  },
  {
   "cell_type": "markdown",
   "metadata": {},
   "source": [
    "#### Linked Lists"
   ]
  },
  {
   "cell_type": "code",
   "execution_count": null,
   "metadata": {},
   "outputs": [],
   "source": [
    "# https://www.youtube.com/watch?v=NobHlGUjV3g\n",
    "# https://www.youtube.com/watch?v=RhCGA4jlPmQ&index=3&list=PLzjoZGHG3J8vdUH75YPqmO7lbQl_M-xXo&t=649s\n",
    "\n",
    "# Insert a new node as the head node\n",
    "# https://www.youtube.com/watch?v=h29zxRMOXgA&list=PLzjoZGHG3J8vdUH75YPqmO7lbQl_M-xXo&index=3\n",
    "# https://www.youtube.com/watch?v=nH_nhfEZ7hc&list=PLzjoZGHG3J8vdUH75YPqmO7lbQl_M-xXo&index=4\n",
    "\n",
    "# Insert a new node at the nth position\n",
    "# https://www.youtube.com/watch?v=8MCPTf-w3ak&index=5&list=PLzjoZGHG3J8vdUH75YPqmO7lbQl_M-xXo\n",
    "# https://www.youtube.com/watch?v=Z0uqXuzCQTo&index=6&list=PLzjoZGHG3J8vdUH75YPqmO7lbQl_M-xXo\n",
    "\n",
    "# Delete the last node\n",
    "# https://www.youtube.com/watch?v=sXAYR1riupE&list=PLzjoZGHG3J8vdUH75YPqmO7lbQl_M-xXo&index=7\n",
    "# https://www.youtube.com/watch?v=2PJ0xmRvUzA&list=PLzjoZGHG3J8vdUH75YPqmO7lbQl_M-xXo&index=8\n",
    "\n",
    "# Delete the nth node\n",
    "# https://www.youtube.com/watch?v=pCrUj6qNfmM&list=PLzjoZGHG3J8vdUH75YPqmO7lbQl_M-xXo&index=9\n",
    "# https://www.youtube.com/watch?v=B3MTwRs01JE&index=10&list=PLzjoZGHG3J8vdUH75YPqmO7lbQl_M-xXo\n",
    "\n",
    "# https://www.geeksforgeeks.org/write-a-function-to-get-nth-node-in-a-linked-list/\n",
    "# https://www.geeksforgeeks.org/reverse-a-linked-list/\n"
   ]
  },
  {
   "cell_type": "code",
   "execution_count": null,
   "metadata": {},
   "outputs": [],
   "source": [
    "# Stacks are data structures that follow the order — LIFO, i.e. Last In First Out. Let’s see what exactly this means, and how we can implement this data structure in Python.\n",
    "# https://www.youtube.com/watch?v=F1F2imiOJfk&t=0s&list=PL2_aWCzGMAwI3W_JlcBbtYTwiQSsOTa6P&index=15\n",
    "# https://www.geeksforgeeks.org/stack-data-structure-introduction-program/\n",
    "\n",
    "# Queues are data structures that follow the order of operations called FIFO, i.e. First In First Out. Go through the links below to understand and implement the queue data structure:\n",
    "# https://www.youtube.com/watch?v=XuCbpw6Bj1U&t=0s&list=PL2_aWCzGMAwI3W_JlcBbtYTwiQSsOTa6P&index=23\n",
    "# https://www.geeksforgeeks.org/queue-set-1introduction-and-array-implementation/"
   ]
  },
  {
   "cell_type": "code",
   "execution_count": null,
   "metadata": {},
   "outputs": [],
   "source": [
    "# Hash Tables\n",
    "# Another important data structure is a hash table, which is also known as a ‘Dictionary’ in Python. Hashing is a powerful technique that helps reduce the time complexity of an algorithm, in many cases\n"
   ]
  },
  {
   "cell_type": "code",
   "execution_count": null,
   "metadata": {},
   "outputs": [],
   "source": [
    "# Given an array A[] and a number x, check for pair in A[] with sum as x\n",
    "\n",
    "def hasArrayTwoCandidates(A, arr_size, sum): \n",
    "      \n",
    "    # sort the array \n",
    "    quickSort(A, 0, arr_size-1) \n",
    "    l = 0\n",
    "    r = arr_size-1\n",
    "      \n",
    "    # traverse the array for the two elements \n",
    "    while l<r: \n",
    "        if (A[l] + A[r] == sum): \n",
    "            return 1\n",
    "        elif (A[l] + A[r] < sum): \n",
    "            l += 1\n",
    "        else: \n",
    "            r -= 1\n",
    "    return 0\n",
    "  \n",
    "# Implementation of Quick Sort \n",
    "# A[] --> Array to be sorted \n",
    "# si  --> Starting index \n",
    "# ei  --> Ending index \n",
    "def quickSort(A, si, ei): \n",
    "    if si < ei: \n",
    "        pi = partition(A, si, ei) \n",
    "        quickSort(A, si, pi-1) \n",
    "        quickSort(A, pi + 1, ei) \n",
    "  \n",
    "# Utility function for partitioning the array(used in quick sort) \n",
    "def partition(A, si, ei): \n",
    "    x = A[ei] \n",
    "    i = (si-1) \n",
    "    for j in range(si, ei): \n",
    "        if A[j] <= x: \n",
    "            i += 1\n",
    "              \n",
    "            # This operation is used to swap two variables is python \n",
    "            A[i], A[j] = A[j], A[i] \n",
    "  \n",
    "        A[i + 1], A[ei] = A[ei], A[i + 1] \n",
    "          \n",
    "    return i + 1\n",
    "      \n",
    "  \n",
    "# Driver program to test the functions \n",
    "A = [1, 4, 45, 6, 10, -8] \n",
    "n = 16\n",
    "if (hasArrayTwoCandidates(A, len(A), n)): \n",
    "    print(\"Array has two elements with the given sum\") \n",
    "else: \n",
    "    print(\"Array doesn't have two elements with the given sum\") \n",
    "  "
   ]
  },
  {
   "cell_type": "code",
   "execution_count": null,
   "metadata": {},
   "outputs": [],
   "source": [
    "# Python program to find the length of largest subarray with 0 sum \n",
    "  \n",
    "# returns the length \n",
    "def maxLen(arr): \n",
    "      \n",
    "    # initialize result \n",
    "    max_len = 0\n",
    "  \n",
    "    # pick a starting point \n",
    "    for i in range(len(arr)): \n",
    "          \n",
    "        # initialize sum for every starting point \n",
    "        curr_sum = 0\n",
    "          \n",
    "        # try all subarrays starting with 'i' \n",
    "        for j in range(i, len(arr)): \n",
    "          \n",
    "            curr_sum += arr[j] \n",
    "  \n",
    "            # if curr_sum becomes 0, then update max_len \n",
    "            if curr_sum == 0: \n",
    "                max_len = max(max_len, j-i + 1) \n",
    "  \n",
    "    return max_len \n",
    "  \n",
    "  \n",
    "# test array \n",
    "arr = [15, -2, 2, -8, 1, 7, 10, 13] \n",
    "  \n",
    "print (maxLen(arr))\n"
   ]
  },
  {
   "cell_type": "code",
   "execution_count": null,
   "metadata": {},
   "outputs": [],
   "source": [
    "# Python 3 program to find whether an array \n",
    "# is subset of another array \n",
    "  \n",
    "# Return 1 if arr2[] is a subset of  \n",
    "# arr1[]  \n",
    "def isSubset(arr1, arr2, m, n): \n",
    "    i = 0\n",
    "    j = 0\n",
    "    for i in range(n): \n",
    "        for j in range(m): \n",
    "            if(arr2[i] == arr1[j]): \n",
    "                break\n",
    "          \n",
    "        # If the above inner loop was \n",
    "        # not broken at all then arr2[i] \n",
    "        # is not present in arr1[]  \n",
    "        if (j == m): \n",
    "            return 0\n",
    "      \n",
    "    # If we reach here then all \n",
    "    # elements of arr2[] are present \n",
    "    # in arr1[]  \n",
    "    return 1\n",
    "  \n",
    "# Driver code \n",
    "if __name__ == \"__main__\": \n",
    "      \n",
    "    arr1 = [11, 1, 13, 21, 3, 7] \n",
    "    arr2 = [11, 3, 7, 1] \n",
    "  \n",
    "    m = len(arr1) \n",
    "    n = len(arr2) \n",
    "  \n",
    "    if(isSubset(arr1, arr2, m, n)): \n",
    "        print(\"arr2[] is subset of arr1[] \") \n",
    "    else: \n",
    "        print(\"arr2[] is not a subset of arr1[]\") \n",
    "  "
   ]
  },
  {
   "cell_type": "markdown",
   "metadata": {},
   "source": [
    "####  Binary Trees"
   ]
  },
  {
   "cell_type": "code",
   "execution_count": null,
   "metadata": {},
   "outputs": [],
   "source": [
    "# https://www.youtube.com/watch?annotation_id=annotation_1064245675&feature=iv&index=25&list=PL2_aWCzGMAwI3W_JlcBbtYTwiQSsOTa6P&src_vid=H5JubkIy_p8&v=qH6yxkw0u78\n",
    "# https://www.youtube.com/watch?v=H5JubkIy_p8&list=PL2_aWCzGMAwI3W_JlcBbtYTwiQSsOTa6P&index=26\n",
    "\n",
    "# Binary Tree | Set 1 (Introduction)\n",
    "\n",
    "# Python program to introduce Binary Tree \n",
    "  \n",
    "# A class that represents an individual node in a \n",
    "# Binary Tree \n",
    "class Node: \n",
    "    def __init__(self,key): \n",
    "        self.left = None\n",
    "        self.right = None\n",
    "        self.val = key \n",
    "  \n",
    "  \n",
    "# create root \n",
    "root = Node(1) \n",
    "''' following is the tree after above statement \n",
    "        1 \n",
    "      /   \\ \n",
    "     None  None'''\n",
    "  \n",
    "root.left      = Node(2); \n",
    "root.right     = Node(3); \n",
    "    \n",
    "''' 2 and 3 become left and right children of 1 \n",
    "           1 \n",
    "         /   \\ \n",
    "        2      3 \n",
    "     /    \\    /  \\ \n",
    "   None None None None'''\n",
    "  \n",
    "  \n",
    "root.left.left  = Node(4); \n",
    "'''4 becomes left child of 2 \n",
    "           1 \n",
    "       /       \\ \n",
    "      2          3 \n",
    "    /   \\       /  \\ \n",
    "   4    None  None  None \n",
    "  /  \\ \n",
    "None None'''"
   ]
  },
  {
   "cell_type": "code",
   "execution_count": null,
   "metadata": {},
   "outputs": [],
   "source": [
    "# Biinary Tree Properties\n",
    "\n",
    "# https://www.geeksforgeeks.org/binary-tree-set-2-properties/\n",
    "# https://www.geeksforgeeks.org/binary-tree-set-3-types-of-binary-tree/"
   ]
  },
  {
   "cell_type": "code",
   "execution_count": null,
   "metadata": {},
   "outputs": [],
   "source": [
    "# https://www.geeksforgeeks.org/tree-traversals-inorder-preorder-and-postorder/\n",
    "# https://www.geeksforgeeks.org/tree-traversals-inorder-preorder-and-postorder/\n",
    "# https://www.geeksforgeeks.org/level-order-tree-traversal/\n",
    "# https://www.geeksforgeeks.org/inorder-tree-traversal-without-recursion/\n",
    "# https://www.youtube.com/watch?v=_pnqMz5nrRs&list=PL2_aWCzGMAwI3W_JlcBbtYTwiQSsOTa6P&t=0s&index=32\n",
    "# https://www.geeksforgeeks.org/write-c-code-to-determine-if-two-trees-are-identical/"
   ]
  },
  {
   "cell_type": "code",
   "execution_count": null,
   "metadata": {},
   "outputs": [],
   "source": [
    "#  Binary Search Tree\n",
    "# https://www.youtube.com/watch?v=pYT9F8_LFTM&list=PL2_aWCzGMAwI3W_JlcBbtYTwiQSsOTa6P&index=27\n",
    "# https://www.geeksforgeeks.org/binary-search-tree-set-1-search-and-insertion/\n",
    "# https://www.geeksforgeeks.org/binary-search-tree-set-2-delete/\n",
    "# https://www.geeksforgeeks.org/sorted-array-to-balanced-bst/\n",
    "# https://www.geeksforgeeks.org/a-program-to-check-if-a-binary-tree-is-bst-or-not/\n",
    "# https://www.geeksforgeeks.org/lowest-common-ancestor-in-a-binary-search-tree/"
   ]
  },
  {
   "cell_type": "markdown",
   "metadata": {},
   "source": [
    "### Advanced Topics"
   ]
  },
  {
   "cell_type": "code",
   "execution_count": null,
   "metadata": {},
   "outputs": [],
   "source": [
    "# https://www.geeksforgeeks.org/greedy-algorithms/#standardGreedyAlgorithms\n",
    "# https://www.geeksforgeeks.org/dynamic-programming/#concepts"
   ]
  },
  {
   "cell_type": "code",
   "execution_count": null,
   "metadata": {},
   "outputs": [],
   "source": []
  }
 ],
 "metadata": {
  "kernelspec": {
   "display_name": "Python 3",
   "language": "python",
   "name": "python3"
  },
  "language_info": {
   "codemirror_mode": {
    "name": "ipython",
    "version": 3
   },
   "file_extension": ".py",
   "mimetype": "text/x-python",
   "name": "python",
   "nbconvert_exporter": "python",
   "pygments_lexer": "ipython3",
   "version": "3.7.4"
  }
 },
 "nbformat": 4,
 "nbformat_minor": 2
}
