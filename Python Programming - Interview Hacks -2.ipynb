{
 "cells": [
  {
   "cell_type": "code",
   "execution_count": null,
   "metadata": {},
   "outputs": [],
   "source": [
    "#Alarm Clock \n",
    "import ast\n",
    "input_str = input()\n",
    "input_list = ast.literal_eval(input_str)\n",
    "day_of_the_week = input_list[0]\n",
    "is_on_vacation = input_list[1]\n",
    "\n",
    "def alarm_time(day_of_the_week, is_on_vacation):\n",
    "    weekend = [6,7]\n",
    "    if is_on_vacation:\n",
    "        if day_of_the_week not in weekend:\n",
    "            return \"10:00\"\n",
    "        else:\n",
    "            return \"off\"\n",
    "    else:\n",
    "        if day_of_the_week not in weekend:\n",
    "            return \"7:00\"\n",
    "        else:\n",
    "            return \"10:00\"\n",
    "print(alarm_time(day_of_the_week, is_on_vacation))\n",
    "    "
   ]
  },
  {
   "cell_type": "code",
   "execution_count": null,
   "metadata": {},
   "outputs": [],
   "source": [
    "#Take an integer as input, and return the factorial of that integer if that integer is greater than or equal to zero and return -1 if the number is less than zero or negative.\n",
    "number = int(input())\n",
    "def factorial(n):\n",
    "    if n<0:\n",
    "        return -1\n",
    "    elif n == 0:\n",
    "        return 1\n",
    "    else:\n",
    "        f = 1\n",
    "        for i in range(1, n+1):\n",
    "            f = f*i\n",
    "        return f\n",
    "\n",
    "    \n",
    "    \n",
    "    \n",
    "k = factorial(number)\n",
    "print(k)  "
   ]
  },
  {
   "cell_type": "code",
   "execution_count": null,
   "metadata": {},
   "outputs": [],
   "source": [
    "# Write a program to reverse digits of a number 4562\n",
    "# Write a program to reverse digits of an integer.\n",
    "rev_num = 0\n",
    "base_pos = 1\n",
    "  \n",
    "# Recursive function to reverse \n",
    "# digits of num \n",
    "def reversDigits(num): \n",
    "    global rev_num \n",
    "    global base_pos \n",
    "    if(num > 0): \n",
    "        reversDigits((int)(num / 10)) \n",
    "        rev_num += (num % 10) * base_pos \n",
    "        base_pos *= 10\n",
    "    return rev_num \n",
    "      \n",
    "# Driver Code  \n",
    "num = int(input())\n",
    "print(\"Reverse of no. is \", \n",
    "         reversDigits(num))"
   ]
  },
  {
   "cell_type": "code",
   "execution_count": null,
   "metadata": {},
   "outputs": [],
   "source": [
    "# Choclate & wrapper problem\n",
    "mystring = input()\n",
    "mylist = mystring.split(\",\")\n",
    "m = int(mylist[0])\n",
    "c = int(mylist[1])\n",
    "choc = m//c\n",
    "w = m//c\n",
    "while w//3!=0:\n",
    "    choc = choc + w//3\n",
    "    w = w//3 + w%3\n",
    "print(choc)"
   ]
  },
  {
   "cell_type": "code",
   "execution_count": null,
   "metadata": {},
   "outputs": [],
   "source": [
    "# Print Pattern\n",
    "n = int(input())\n",
    "for i in range(1,n+1):\n",
    "    for j in range(n-i):\n",
    "        print(' ',end='')\n",
    "    for k in range(i-1):\n",
    "        print('*_',end='')\n",
    "    print('*')"
   ]
  },
  {
   "cell_type": "code",
   "execution_count": null,
   "metadata": {},
   "outputs": [],
   "source": [
    "# Print Patter\n",
    "import string\n",
    "\n",
    "n = int(input())\n",
    "\n",
    "a = string.ascii_lowercase\n",
    "\n",
    "# Write your code below\n",
    "\n",
    "List = []\n",
    "\n",
    "for i in range(n):\n",
    "\n",
    "    s = \"-\".join(a[i:n])\n",
    "\n",
    "    List.append(s[::-1]+s[1:])\n",
    "\n",
    "width = len(List[0])\n",
    "\n",
    "for i in range(n-1, 0, -1):\n",
    "\n",
    "    print(List[i].center(width, \"-\"))\n",
    "\n",
    "for i in range(n):\n",
    "\n",
    "    print(List[i].center(width, \"-\"))"
   ]
  },
  {
   "cell_type": "code",
   "execution_count": null,
   "metadata": {},
   "outputs": [],
   "source": [
    "# Python program to check if the number is an Armstrong number or not\n",
    "\n",
    "# take input from the user\n",
    "n = int(input(\"Enter a number: \"))\n",
    "\n",
    "# initialize sum\n",
    "sum = 0\n",
    "\n",
    "# find the sum of the cube of each digit\n",
    "c = n\n",
    "while c > 0:\n",
    "    digit = c % 10\n",
    "    sum += digit ** 3\n",
    "    c //= 10\n",
    "\n",
    "# display the result\n",
    "if n == sum:\n",
    "    print(\"True\")\n",
    "else:\n",
    "    print(\"False\")"
   ]
  },
  {
   "cell_type": "code",
   "execution_count": null,
   "metadata": {},
   "outputs": [],
   "source": [
    "# Program to display the Fibonacci sequence up to n-th term\n",
    "\n",
    "n = int(input())\n",
    "\n",
    "# first two terms\n",
    "n1, n2 = 0, 1\n",
    "count = 0\n",
    "\n",
    "# check if the number of terms is valid\n",
    "if n <= 0:\n",
    "    print(\"Please enter a positive integer\")\n",
    "elif n == 1:\n",
    "    print(n1)\n",
    "else:\n",
    "    while count < n:\n",
    "        print(n1)\n",
    "        nth = n1 + n2\n",
    "       # update values\n",
    "        n1 = n2\n",
    "        n2 = nth\n",
    "        count += 1"
   ]
  },
  {
   "cell_type": "code",
   "execution_count": null,
   "metadata": {},
   "outputs": [],
   "source": [
    "def sumOfPrimes(n): \n",
    "    # list to store prime numbers \n",
    "    prime = [True] * (n + 1) \n",
    "      \n",
    "    # Create a boolean array \"prime[0..n]\" \n",
    "    # and initialize all entries it as true. \n",
    "    # A value in prime[i] will finally be \n",
    "    # false if i is Not a prime, else true. \n",
    "      \n",
    "    p = 2\n",
    "    while p * p <= n: \n",
    "        # If prime[p] is not changed, then \n",
    "        # it is a prime \n",
    "        if prime[p] == True: \n",
    "            # Update all multiples of p \n",
    "            i = p * 2\n",
    "            while i <= n: \n",
    "                prime[i] = False\n",
    "                i += p \n",
    "        p += 1    \n",
    "           \n",
    "    # Return sum of primes generated through \n",
    "    # Sieve. \n",
    "    sum = 0\n",
    "    for i in range (2, n + 1): \n",
    "        if(prime[i]): \n",
    "            sum += i \n",
    "    return sum\n",
    "# Driver code \n",
    "n = int(input())\n",
    "print (sumOfPrimes(n))"
   ]
  },
  {
   "cell_type": "code",
   "execution_count": null,
   "metadata": {},
   "outputs": [],
   "source": [
    "# Efficient Python3 program to find  \n",
    "# maximum number of chocolates  \n",
    "  \n",
    "# Returns maximum number of  \n",
    "# chocolates we can eat with  \n",
    "# given money, price of chocolate \n",
    "# and number of wrapprices \n",
    "# required to get a chocolate.  \n",
    "def countMaxChoco(money, price, wrap, k) : \n",
    "  \n",
    "    # Corner case  \n",
    "    if (money < price) : \n",
    "        return 0\n",
    "  \n",
    "    # First find number of chocolates  \n",
    "    # that can be purchased with the \n",
    "    # given amount  \n",
    "    choc = int(money / price)  \n",
    "  \n",
    "    # Now just add number of \n",
    "    # chocolates with the chocolates  \n",
    "    # gained by wrapprices  \n",
    "    choc = choc + k\n",
    "    return int(choc ) \n",
    "  \n",
    "# Driver code  \n",
    "money = 15 # total money  \n",
    "price = 2 # cost of each candy  \n",
    "wrap = 3 # no of wrappers needs to be  \n",
    "k =  1      # exchanged for one chocolate.  \n",
    "  \n",
    "print(countMaxChoco(money, price, wrap, k)) "
   ]
  },
  {
   "cell_type": "markdown",
   "metadata": {},
   "source": [
    "## choclate problem"
   ]
  },
  {
   "cell_type": "code",
   "execution_count": null,
   "metadata": {},
   "outputs": [],
   "source": [
    "my_string = input()\n",
    "input_list = my_string.split(',')\n",
    "m = int(input_list[0]) # how much money available\n",
    "c = int(input_list[1]) #Cost of the chocolate\n",
    "w = int(input_list[2])\n",
    "k = int(input_list[3]) #shopkeepr will give k chocolates for w wrappers\n",
    "\n",
    "#First time how many chocolates\n",
    "choc = m//c\n",
    "get_w = m//c #how many wrappers after getting the chocolate\n",
    "\n",
    "while get_w//w !=0:\n",
    "    choc = choc + k * (get_w//w)\n",
    "    get_w = get_w%w + k * (get_w//w)\n",
    "        \n",
    "print(choc)  "
   ]
  },
  {
   "cell_type": "code",
   "execution_count": null,
   "metadata": {},
   "outputs": [],
   "source": [
    "L=[2, 3, 4, 2, 1, 2, 3]\n",
    "print(L.index(2))"
   ]
  },
  {
   "cell_type": "code",
   "execution_count": null,
   "metadata": {},
   "outputs": [],
   "source": [
    "L = [2, 1, 2, 4, 5, 3, 6]\n",
    "K = 4 in L\n",
    "K"
   ]
  },
  {
   "cell_type": "code",
   "execution_count": null,
   "metadata": {},
   "outputs": [],
   "source": [
    "L=[10,20,30,40,50,60,70,80,90,100]\n",
    "\n",
    "[L[i] for i in range(1,9,2)]"
   ]
  },
  {
   "cell_type": "code",
   "execution_count": null,
   "metadata": {},
   "outputs": [],
   "source": [
    "A = [10, 20, 30] \n",
    "B = [45, 35, 25]"
   ]
  },
  {
   "cell_type": "code",
   "execution_count": null,
   "metadata": {},
   "outputs": [],
   "source": [
    "C=B.append(A)\n",
    "print(C)"
   ]
  },
  {
   "cell_type": "code",
   "execution_count": null,
   "metadata": {},
   "outputs": [],
   "source": [
    "d = B.extend(A)\n",
    "print(d)"
   ]
  },
  {
   "cell_type": "code",
   "execution_count": null,
   "metadata": {},
   "outputs": [],
   "source": [
    "e = [A, B]\n",
    "print(e)"
   ]
  },
  {
   "cell_type": "code",
   "execution_count": null,
   "metadata": {},
   "outputs": [],
   "source": [
    "F = [A.append(i) for i in B]\n",
    "print(F)"
   ]
  },
  {
   "cell_type": "markdown",
   "metadata": {},
   "source": [
    "# LISTS"
   ]
  },
  {
   "cell_type": "code",
   "execution_count": null,
   "metadata": {},
   "outputs": [],
   "source": [
    "# Check above average\n",
    "import ast\n",
    "team = ast.literal_eval(input())\n",
    "applicant = ast.literal_eval(input())\n",
    "\n",
    "def check_above_average(data, check):\n",
    "    s = 0\n",
    "    for item in data:\n",
    "        s = s + item\n",
    "    avg = s/len(data)\n",
    "    if check > avg:\n",
    "        return 1\n",
    "    else:\n",
    "        return 0\n",
    "for appl in applicant:\n",
    "    is_add = check_above_average(team, appl)\n",
    "    if is_add == 1:\n",
    "        team.append(appl)\n",
    "        \n",
    "print(team)"
   ]
  },
  {
   "cell_type": "code",
   "execution_count": null,
   "metadata": {},
   "outputs": [],
   "source": [
    "#taking input calender problem\n",
    "import ast\n",
    "input_str1 = input()\n",
    "input_list1 = ast.literal_eval(input_str1)\n",
    "events = input_list1\n",
    "\n",
    "wedding = int(input())\n",
    "\n",
    "#start writing from here\n",
    "clash =0\n",
    "\n",
    "for event in events:\n",
    "    if event[0]<=wedding and event[1]>=wedding:\n",
    "        clash= clash+1\n",
    "\n",
    "print(clash)\n"
   ]
  },
  {
   "cell_type": "code",
   "execution_count": null,
   "metadata": {},
   "outputs": [],
   "source": [
    "import ast\n",
    "mylist = ast.literal_eval(input())\n",
    "m = mylist[0]\n",
    "n = mylist[1]\n",
    "\n",
    "final = [0]*n\n",
    "\n",
    "final = [list(final) for i in range(m)]\n",
    "\n",
    "for i in range(m):\n",
    "    for j in range(n):\n",
    "        if i == 0 or j == 0 or i == m-1 or j == n-1:\n",
    "            final[i][j]=1\n",
    "            \n",
    "for i in final:\n",
    "    print(i)"
   ]
  },
  {
   "cell_type": "code",
   "execution_count": null,
   "metadata": {},
   "outputs": [],
   "source": [
    "\n",
    "##lego block problem\n",
    "import ast,sys\n",
    "\n",
    "input_str = sys.stdin.read()\n",
    "Lego = ast.literal_eval(input_str)\n",
    "\n",
    "Max_block_width = max(Lego[0],Lego[-1])\n",
    "last_block_width = max(Lego[0],Lego[-1])\n",
    "totallego = len(Lego)\n",
    "   \n",
    "for i in range(totallego):\n",
    "    Max_block_width = max(Lego[0],Lego[-1])\n",
    "    if last_block_width >= Max_block_width:\n",
    "        \n",
    "        if Max_block_width == Lego[0]:\n",
    "            \n",
    "            last_block_width = Lego[0]\n",
    "            Lego.pop(0)\n",
    "        \n",
    "        elif Max_block_width == Lego[-1]:\n",
    "            \n",
    "            last_block_width = Lego[-1]\n",
    "            Lego.pop(-1)\n",
    "            \n",
    "currentlegolenth = len(Lego)\n",
    "\n",
    "if currentlegolenth == 0:\n",
    "     print(\"Possible\")\n",
    "else:\n",
    "    print(\"Impossible\")"
   ]
  },
  {
   "cell_type": "code",
   "execution_count": 1,
   "metadata": {},
   "outputs": [
    {
     "name": "stdout",
     "output_type": "stream",
     "text": [
      "6\n",
      "1 \n",
      "1 1 \n",
      "1 2 1 \n",
      "1 3 3 1 \n",
      "1 4 6 4 1 \n",
      "1 5 10 10 5 1 \n"
     ]
    }
   ],
   "source": [
    "#pascal triangle problem\n",
    "def printPascal(n):  \n",
    "    for line in range(1, n + 1):  \n",
    "        C = 1 # used to represent C(line, i)  \n",
    "        for i in range(1, line + 1):  \n",
    "              \n",
    "            # The first value in a  \n",
    "            # line is always 1  \n",
    "            print(C, end = \" \") \n",
    "            C = int(C * (line - i) / i)\n",
    "        print(\"\") \n",
    "        #Driver code  \n",
    "n = int(input())  \n",
    "printPascal(n)"
   ]
  },
  {
   "cell_type": "code",
   "execution_count": 13,
   "metadata": {},
   "outputs": [
    {
     "name": "stdout",
     "output_type": "stream",
     "text": [
      "<generator object chunks at 0x000002524529D0C8>\n"
     ]
    }
   ],
   "source": [
    "\n",
    "lis = [1,2,3,4,5,6,7,8,9]\n",
    "\n",
    "def chunks(l, n):\n",
    "    # For item i in a range that is a length of l,\n",
    "    for i in range(0, len(l), n):\n",
    "        # Create an index range for l of n items:\n",
    "        yield l[i:i+n]\n",
    "x = (chunks(lis, 3))\n",
    "print (x)"
   ]
  },
  {
   "cell_type": "code",
   "execution_count": null,
   "metadata": {},
   "outputs": [],
   "source": []
  }
 ],
 "metadata": {
  "kernelspec": {
   "display_name": "Python 3",
   "language": "python",
   "name": "python3"
  },
  "language_info": {
   "codemirror_mode": {
    "name": "ipython",
    "version": 3
   },
   "file_extension": ".py",
   "mimetype": "text/x-python",
   "name": "python",
   "nbconvert_exporter": "python",
   "pygments_lexer": "ipython3",
   "version": "3.7.4"
  }
 },
 "nbformat": 4,
 "nbformat_minor": 2
}
